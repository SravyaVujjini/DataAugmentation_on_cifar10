{
  "nbformat": 4,
  "nbformat_minor": 0,
  "metadata": {
    "colab": {
      "provenance": []
    },
    "kernelspec": {
      "name": "python3",
      "display_name": "Python 3"
    },
    "language_info": {
      "name": "python"
    },
    "accelerator": "GPU",
    "gpuClass": "standard"
  },
  "cells": [
    {
      "cell_type": "code",
      "source": [
        "import tensorflow as tf\n",
        "import tarfile\n",
        "import numpy as np\n",
        "from sklearn.model_selection import train_test_split\n",
        "import matplotlib.pyplot as plt"
      ],
      "metadata": {
        "id": "5X_S7u1M4_Hu"
      },
      "execution_count": null,
      "outputs": []
    },
    {
      "cell_type": "markdown",
      "source": [
        "#**Data Augmentation**"
      ],
      "metadata": {
        "id": "22mVxsqu_R7g"
      }
    },
    {
      "cell_type": "code",
      "execution_count": null,
      "metadata": {
        "colab": {
          "base_uri": "https://localhost:8080/"
        },
        "id": "pQGUutNuZWVx",
        "outputId": "f4822daa-6345-4284-9a2e-8a37c7b4fdb2"
      },
      "outputs": [
        {
          "output_type": "stream",
          "name": "stdout",
          "text": [
            "Mounted at /content/drive\n"
          ]
        }
      ],
      "source": [
        "#importing drive to load files\n",
        "from google.colab import drive\n",
        "\n",
        "drive.mount('/content/drive')"
      ]
    },
    {
      "cell_type": "code",
      "execution_count": null,
      "metadata": {
        "id": "oXdxn0Hz7ub1"
      },
      "outputs": [],
      "source": [
        "#Loading data from drive and storing the data in numpy arrays\n",
        "\n",
        "file = tarfile.open('/content/drive/MyDrive/DLS data/cifar-10-python.tar.gz')\n",
        "file.extractall('/content') \n",
        "file.close()\n",
        "\n",
        "def unpickle(file):\n",
        "    import pickle\n",
        "    with open(file, 'rb') as fo:\n",
        "        dict = pickle.load(fo, encoding='bytes')\n",
        "    return dict\n",
        "\n",
        "data_dict = {}\n",
        "data_combi = []\n",
        "labels_combi = []\n",
        "for i in range(1,6):\n",
        "  data_dict['data_batch_'+str(i)] = unpickle('/content/cifar-10-batches-py/data_batch_'+str(i))\n",
        "  data_combi.append(data_dict['data_batch_'+str(i)][b'data'])\n",
        "  labels_combi.append(data_dict['data_batch_'+str(i)][b'labels'])\n",
        "\n",
        "data_combi = np.array(data_combi)\n",
        "labels_combi = np.array(labels_combi)\n",
        "\n",
        "del data_dict"
      ]
    },
    {
      "cell_type": "code",
      "execution_count": null,
      "metadata": {
        "id": "Zbqzb6jkRidi"
      },
      "outputs": [],
      "source": [
        "!rm -rf 'cifar-10-batches-py' "
      ]
    },
    {
      "cell_type": "code",
      "execution_count": null,
      "metadata": {
        "id": "xDEu4yg2RoPF"
      },
      "outputs": [],
      "source": [
        "from google.colab import drive\n",
        "\n",
        "drive.flush_and_unmount()"
      ]
    },
    {
      "cell_type": "code",
      "execution_count": null,
      "metadata": {
        "colab": {
          "base_uri": "https://localhost:8080/"
        },
        "id": "Y9TOiAu7G4Dk",
        "outputId": "283033f7-5be3-48ee-b237-1c13e0b31992"
      },
      "outputs": [
        {
          "output_type": "stream",
          "name": "stdout",
          "text": [
            "(50000, 3072)\n",
            "(50000,)\n"
          ]
        }
      ],
      "source": [
        "data_combi = data_combi.reshape(-1,50000,3072)[0]\n",
        "labels_combi = labels_combi.reshape(-1,50000, )[0]\n",
        "\n",
        "data_combi = data_combi.astype('float32')\n",
        "print(data_combi.shape)\n",
        "print(labels_combi.shape)"
      ]
    },
    {
      "cell_type": "code",
      "execution_count": null,
      "metadata": {
        "colab": {
          "base_uri": "https://localhost:8080/"
        },
        "id": "BDFUm2W6Nejm",
        "outputId": "edd9ac5b-46b1-4843-9bc6-61789d368785"
      },
      "outputs": [
        {
          "output_type": "stream",
          "name": "stdout",
          "text": [
            "(45000, 3072)\n",
            "(5000, 3072)\n",
            "(45000,)\n",
            "(5000,)\n"
          ]
        }
      ],
      "source": [
        "#training and validation data \n",
        "\n",
        "data_combi_train, data_combi_val, labels_combi_train, labels_combi_val = train_test_split(data_combi,labels_combi,random_state = 1,test_size = 0.1)\n",
        "\n",
        "print(data_combi_train.shape)\n",
        "print(data_combi_val.shape)\n",
        "print(labels_combi_train.shape)\n",
        "print(labels_combi_val.shape)"
      ]
    },
    {
      "cell_type": "code",
      "execution_count": null,
      "metadata": {
        "id": "9hyL4FBLOSh0"
      },
      "outputs": [],
      "source": [
        "#Reshaping the data into 32 * 32 * 3\n",
        "\n",
        "data_combi_train_reshaped = data_combi_train.reshape(45000,3,32,32).transpose(0,2,3,1)\n",
        "data_combi_val_reshaped = data_combi_val.reshape(5000,3,32,32).transpose(0,2,3,1)"
      ]
    },
    {
      "cell_type": "code",
      "execution_count": null,
      "metadata": {
        "id": "z7hkmx3t38uM"
      },
      "outputs": [],
      "source": [
        "#rescale the pixels to [-1, 1]\n",
        "\n",
        "data_combi_train_rescaled_reshaped =  (data_combi_train_reshaped/255) - (data_combi_train_reshaped/255).mean()\n",
        "data_combi_val_rescaled_reshaped =  (data_combi_val_reshaped/255) - (data_combi_val_reshaped/255).mean()"
      ]
    },
    {
      "cell_type": "code",
      "execution_count": null,
      "metadata": {
        "id": "Eoj-1DJl-0OV"
      },
      "outputs": [],
      "source": [
        "#One hot encoding the labels\n",
        "\n",
        "labels_combi_train = tf.one_hot(labels_combi_train,depth=10)\n",
        "labels_combi_val = tf.one_hot(labels_combi_val,depth=10)"
      ]
    },
    {
      "cell_type": "code",
      "execution_count": null,
      "metadata": {
        "id": "lRPijwxCksuW"
      },
      "outputs": [],
      "source": [
        "#building the model\n",
        "model = tf.keras.Sequential([\n",
        "    tf.keras.layers.Conv2D(data_format='channels_last',filters = 10, kernel_size = (5,5), strides = 1, activation = 'relu', kernel_initializer = tf.keras.initializers.HeNormal()),\n",
        "    tf.keras.layers.MaxPooling2D(pool_size = (2,2), strides = 2),\n",
        "    tf.keras.layers.Conv2D(data_format='channels_last',filters = 10, kernel_size = (5,5), strides = 1, activation = 'relu', kernel_initializer = tf.keras.initializers.HeNormal()),\n",
        "    tf.keras.layers.MaxPooling2D(pool_size = (2,2), strides = 2),\n",
        "    tf.keras.layers.Flatten(),\n",
        "    tf.keras.layers.Dense(units=20,activation='relu',kernel_initializer=tf.keras.initializers.HeNormal()),\n",
        "    tf.keras.layers.Dense(units=10,activation='softmax')\n",
        "  ])"
      ]
    },
    {
      "cell_type": "code",
      "execution_count": null,
      "metadata": {
        "id": "N354qdI5zyX1"
      },
      "outputs": [],
      "source": [
        "#modile compilation\n",
        "model.compile(optimizer=tf.keras.optimizers.Adam(learning_rate=0.001),loss='categorical_crossentropy',metrics=['accuracy'])"
      ]
    },
    {
      "cell_type": "code",
      "execution_count": null,
      "metadata": {
        "colab": {
          "base_uri": "https://localhost:8080/"
        },
        "id": "oyHyYPsc0BuF",
        "outputId": "0c6c0b57-4974-42a0-a17a-83afafc1dd12"
      },
      "outputs": [
        {
          "output_type": "stream",
          "name": "stdout",
          "text": [
            "Epoch 1/20\n",
            "352/352 [==============================] - 14s 9ms/step - loss: 1.8594 - accuracy: 0.3100 - val_loss: 1.5948 - val_accuracy: 0.4096\n",
            "Epoch 2/20\n",
            "352/352 [==============================] - 2s 7ms/step - loss: 1.5238 - accuracy: 0.4462 - val_loss: 1.4486 - val_accuracy: 0.4794\n",
            "Epoch 3/20\n",
            "352/352 [==============================] - 2s 5ms/step - loss: 1.4201 - accuracy: 0.4877 - val_loss: 1.4101 - val_accuracy: 0.4874\n",
            "Epoch 4/20\n",
            "352/352 [==============================] - 3s 8ms/step - loss: 1.3518 - accuracy: 0.5160 - val_loss: 1.3381 - val_accuracy: 0.5214\n",
            "Epoch 5/20\n",
            "352/352 [==============================] - 2s 5ms/step - loss: 1.3014 - accuracy: 0.5357 - val_loss: 1.2878 - val_accuracy: 0.5390\n",
            "Epoch 6/20\n",
            "352/352 [==============================] - 2s 5ms/step - loss: 1.2702 - accuracy: 0.5488 - val_loss: 1.2760 - val_accuracy: 0.5420\n",
            "Epoch 7/20\n",
            "352/352 [==============================] - 3s 7ms/step - loss: 1.2366 - accuracy: 0.5654 - val_loss: 1.2385 - val_accuracy: 0.5618\n",
            "Epoch 8/20\n",
            "352/352 [==============================] - 3s 8ms/step - loss: 1.2130 - accuracy: 0.5718 - val_loss: 1.2206 - val_accuracy: 0.5712\n",
            "Epoch 9/20\n",
            "352/352 [==============================] - 3s 8ms/step - loss: 1.1892 - accuracy: 0.5784 - val_loss: 1.2153 - val_accuracy: 0.5722\n",
            "Epoch 10/20\n",
            "352/352 [==============================] - 2s 7ms/step - loss: 1.1706 - accuracy: 0.5858 - val_loss: 1.2044 - val_accuracy: 0.5758\n",
            "Epoch 11/20\n",
            "352/352 [==============================] - 2s 6ms/step - loss: 1.1513 - accuracy: 0.5941 - val_loss: 1.1739 - val_accuracy: 0.5892\n",
            "Epoch 12/20\n",
            "352/352 [==============================] - 2s 5ms/step - loss: 1.1308 - accuracy: 0.6019 - val_loss: 1.1393 - val_accuracy: 0.6030\n",
            "Epoch 13/20\n",
            "352/352 [==============================] - 2s 5ms/step - loss: 1.1138 - accuracy: 0.6088 - val_loss: 1.1359 - val_accuracy: 0.6008\n",
            "Epoch 14/20\n",
            "352/352 [==============================] - 2s 5ms/step - loss: 1.0970 - accuracy: 0.6145 - val_loss: 1.1282 - val_accuracy: 0.6040\n",
            "Epoch 15/20\n",
            "352/352 [==============================] - 2s 5ms/step - loss: 1.0874 - accuracy: 0.6182 - val_loss: 1.1066 - val_accuracy: 0.6086\n",
            "Epoch 16/20\n",
            "352/352 [==============================] - 3s 8ms/step - loss: 1.0716 - accuracy: 0.6232 - val_loss: 1.0973 - val_accuracy: 0.6158\n",
            "Epoch 17/20\n",
            "352/352 [==============================] - 2s 5ms/step - loss: 1.0608 - accuracy: 0.6276 - val_loss: 1.1081 - val_accuracy: 0.6104\n",
            "Epoch 18/20\n",
            "352/352 [==============================] - 2s 5ms/step - loss: 1.0529 - accuracy: 0.6321 - val_loss: 1.0824 - val_accuracy: 0.6184\n",
            "Epoch 19/20\n",
            "352/352 [==============================] - 2s 5ms/step - loss: 1.0425 - accuracy: 0.6346 - val_loss: 1.0751 - val_accuracy: 0.6242\n",
            "Epoch 20/20\n",
            "352/352 [==============================] - 2s 5ms/step - loss: 1.0355 - accuracy: 0.6368 - val_loss: 1.0852 - val_accuracy: 0.6304\n"
          ]
        }
      ],
      "source": [
        "#Training the model\n",
        "history = model.fit(data_combi_train_rescaled_reshaped,labels_combi_train,batch_size=128,epochs=20,validation_data=(data_combi_val_rescaled_reshaped,labels_combi_val),verbose=True)"
      ]
    },
    {
      "cell_type": "markdown",
      "source": [
        "Building another classifier using an augmented dataset."
      ],
      "metadata": {
        "id": "2iHm1KrmAWCv"
      }
    },
    {
      "cell_type": "code",
      "execution_count": null,
      "metadata": {
        "id": "Fk5Pc7ualba9"
      },
      "outputs": [],
      "source": [
        "# Rescaling original data to [0,1]\n",
        "\n",
        "data_combi_train_reshaped_rescaled01 = data_combi_train_reshaped/255"
      ]
    },
    {
      "cell_type": "code",
      "execution_count": null,
      "metadata": {
        "id": "3N6LYHrSTMpl"
      },
      "outputs": [],
      "source": [
        "#Data Augmentation : Brightening the images, Darkening the images, horizontally flipping the images, and the original data \n",
        "\n",
        "augmented_data = np.concatenate((np.minimum(1.1 * data_combi_train_reshaped_rescaled01, 1),(0.9 * data_combi_train_reshaped_rescaled01),np.array([np.fliplr(data_combi_train_reshaped_rescaled01[i]) for i in range(0,45000)]),data_combi_train_reshaped_rescaled01))"
      ]
    },
    {
      "cell_type": "code",
      "execution_count": null,
      "metadata": {
        "colab": {
          "base_uri": "https://localhost:8080/",
          "height": 607
        },
        "id": "L2LVYVzAEJ2e",
        "outputId": "56f82347-e4b6-4377-e85e-14225cc4cc44"
      },
      "outputs": [
        {
          "output_type": "display_data",
          "data": {
            "text/plain": [
              "<Figure size 720x720 with 4 Axes>"
            ],
            "image/png": "[encoded data removed]"
          },
          "metadata": {
            "needs_background": "light"
          }
        }
      ],
      "source": [
        "#Visualizing a few images after augmentation\n",
        "plt.figure(figsize=(10,10))\n",
        "plt.subplot(2,2,1)\n",
        "plt.imshow(augmented_data[132])\n",
        "plt.title('Brightened image')\n",
        "\n",
        "plt.subplot(2,2,2)\n",
        "plt.imshow(augmented_data[45000+132])\n",
        "plt.title('Darkened image')\n",
        "\n",
        "plt.subplot(2,2,3)\n",
        "plt.imshow(augmented_data[45000*2+132])\n",
        "plt.title('Horizontally flipped image')\n",
        "\n",
        "plt.subplot(2,2,4)\n",
        "plt.imshow(augmented_data[45000*3+132])\n",
        "plt.title('Original image')\n",
        "\n",
        "plt.show()"
      ]
    },
    {
      "cell_type": "code",
      "execution_count": null,
      "metadata": {
        "id": "W1ULmmE9YmkA"
      },
      "outputs": [],
      "source": [
        "#Rescaling teh data to [-1,1]\n",
        "\n",
        "augmented_data_rescaled = augmented_data - augmented_data.mean()"
      ]
    },
    {
      "cell_type": "code",
      "execution_count": null,
      "metadata": {
        "id": "8oJqzx7ug24C"
      },
      "outputs": [],
      "source": [
        "augmented_labels = np.concatenate((labels_combi_train,labels_combi_train,labels_combi_train,labels_combi_train))"
      ]
    },
    {
      "cell_type": "code",
      "execution_count": null,
      "metadata": {
        "id": "k2fAYWIUgq4t"
      },
      "outputs": [],
      "source": [
        "#Building the model\n",
        "\n",
        "model = tf.keras.Sequential([\n",
        "    tf.keras.layers.Conv2D(data_format='channels_last',filters = 10, kernel_size = (5,5), strides = 1, activation = 'relu', kernel_initializer = tf.keras.initializers.HeNormal()),\n",
        "    tf.keras.layers.MaxPooling2D(pool_size = (2,2), strides = 2),\n",
        "    tf.keras.layers.Conv2D(data_format='channels_last',filters = 10, kernel_size = (5,5), strides = 1, activation = 'relu', kernel_initializer = tf.keras.initializers.HeNormal()),\n",
        "    tf.keras.layers.MaxPooling2D(pool_size = (2,2), strides = 2),\n",
        "    tf.keras.layers.Flatten(),\n",
        "    tf.keras.layers.Dense(units=20,activation='relu',kernel_initializer=tf.keras.initializers.HeNormal()),\n",
        "    tf.keras.layers.Dense(units=10,activation='softmax')\n",
        "  ])"
      ]
    },
    {
      "cell_type": "code",
      "execution_count": null,
      "metadata": {
        "id": "JwY3wRzHgrdh"
      },
      "outputs": [],
      "source": [
        "#model compilation\n",
        "\n",
        "model.compile(optimizer=tf.keras.optimizers.Adam(learning_rate=0.001),loss='categorical_crossentropy',metrics=['accuracy'])"
      ]
    },
    {
      "cell_type": "code",
      "execution_count": null,
      "metadata": {
        "colab": {
          "base_uri": "https://localhost:8080/"
        },
        "id": "jAZ45YKKgxpk",
        "outputId": "83f3ae67-d559-4130-ebb5-00e5552cdbe3"
      },
      "outputs": [
        {
          "output_type": "stream",
          "name": "stdout",
          "text": [
            "Epoch 1/20\n",
            "352/352 [==============================] - 5s 12ms/step - loss: 1.7370 - accuracy: 0.3687 - val_loss: 1.4509 - val_accuracy: 0.4686\n",
            "Epoch 2/20\n",
            "352/352 [==============================] - 3s 9ms/step - loss: 1.3680 - accuracy: 0.5102 - val_loss: 1.3353 - val_accuracy: 0.5226\n",
            "Epoch 3/20\n",
            "352/352 [==============================] - 3s 9ms/step - loss: 1.2822 - accuracy: 0.5461 - val_loss: 1.2809 - val_accuracy: 0.5446\n",
            "Epoch 4/20\n",
            "352/352 [==============================] - 3s 9ms/step - loss: 1.2298 - accuracy: 0.5661 - val_loss: 1.2242 - val_accuracy: 0.5720\n",
            "Epoch 5/20\n",
            "352/352 [==============================] - 3s 9ms/step - loss: 1.1844 - accuracy: 0.5836 - val_loss: 1.1919 - val_accuracy: 0.5796\n",
            "Epoch 6/20\n",
            "352/352 [==============================] - 3s 9ms/step - loss: 1.1520 - accuracy: 0.5957 - val_loss: 1.1554 - val_accuracy: 0.5912\n",
            "Epoch 7/20\n",
            "352/352 [==============================] - 3s 9ms/step - loss: 1.1244 - accuracy: 0.6070 - val_loss: 1.1373 - val_accuracy: 0.6022\n",
            "Epoch 8/20\n",
            "352/352 [==============================] - 3s 9ms/step - loss: 1.1017 - accuracy: 0.6163 - val_loss: 1.1147 - val_accuracy: 0.6066\n",
            "Epoch 9/20\n",
            "352/352 [==============================] - 3s 9ms/step - loss: 1.0812 - accuracy: 0.6240 - val_loss: 1.1238 - val_accuracy: 0.6044\n",
            "Epoch 10/20\n",
            "352/352 [==============================] - 3s 9ms/step - loss: 1.0625 - accuracy: 0.6314 - val_loss: 1.0827 - val_accuracy: 0.6186\n",
            "Epoch 11/20\n",
            "352/352 [==============================] - 3s 9ms/step - loss: 1.0539 - accuracy: 0.6345 - val_loss: 1.0728 - val_accuracy: 0.6192\n",
            "Epoch 12/20\n",
            "352/352 [==============================] - 3s 9ms/step - loss: 1.0378 - accuracy: 0.6404 - val_loss: 1.0569 - val_accuracy: 0.6330\n",
            "Epoch 13/20\n",
            "352/352 [==============================] - 3s 9ms/step - loss: 1.0265 - accuracy: 0.6448 - val_loss: 1.0482 - val_accuracy: 0.6326\n",
            "Epoch 14/20\n",
            "352/352 [==============================] - 3s 9ms/step - loss: 1.0166 - accuracy: 0.6478 - val_loss: 1.0414 - val_accuracy: 0.6318\n",
            "Epoch 15/20\n",
            "352/352 [==============================] - 3s 9ms/step - loss: 1.0063 - accuracy: 0.6518 - val_loss: 1.0431 - val_accuracy: 0.6346\n",
            "Epoch 16/20\n",
            "352/352 [==============================] - 3s 9ms/step - loss: 0.9980 - accuracy: 0.6547 - val_loss: 1.0369 - val_accuracy: 0.6408\n",
            "Epoch 17/20\n",
            "352/352 [==============================] - 3s 9ms/step - loss: 0.9905 - accuracy: 0.6574 - val_loss: 1.0294 - val_accuracy: 0.6418\n",
            "Epoch 18/20\n",
            "352/352 [==============================] - 3s 9ms/step - loss: 0.9815 - accuracy: 0.6604 - val_loss: 1.0217 - val_accuracy: 0.6440\n",
            "Epoch 19/20\n",
            "352/352 [==============================] - 3s 9ms/step - loss: 0.9770 - accuracy: 0.6618 - val_loss: 1.0047 - val_accuracy: 0.6566\n",
            "Epoch 20/20\n",
            "352/352 [==============================] - 3s 9ms/step - loss: 0.9706 - accuracy: 0.6642 - val_loss: 1.0083 - val_accuracy: 0.6518\n"
          ]
        }
      ],
      "source": [
        "#Training the model with the augmented data set\n",
        "history1 = model.fit(augmented_data_rescaled,augmented_labels,batch_size=512,epochs=20,validation_data=(data_combi_val_rescaled_reshaped,labels_combi_val),verbose=True)"
      ]
    },
    {
      "cell_type": "markdown",
      "source": [
        "Plotting the validation accuracy curve for both the augmented dataset and the baseline model"
      ],
      "metadata": {
        "id": "nbuBkQizBu7x"
      }
    },
    {
      "cell_type": "code",
      "execution_count": null,
      "metadata": {
        "colab": {
          "base_uri": "https://localhost:8080/",
          "height": 279
        },
        "id": "mzN0vWR0VCHt",
        "outputId": "8cb3b038-d885-42d2-c963-c36bf0cdf443"
      },
      "outputs": [
        {
          "output_type": "display_data",
          "data": {
            "text/plain": [
              "<Figure size 432x288 with 1 Axes>"
            ],
            "image/png": "[encoded data removed]"
          },
          "metadata": {
            "needs_background": "light"
          }
        }
      ],
      "source": [
        "plt.plot(range(1,21),history.history['val_accuracy'],color='blue')\n",
        "plt.plot(range(1,21),history1.history['val_accuracy'],color='red')\n",
        "plt.legend(['Baseline model','Augmented data model'])\n",
        "plt.xlabel('Epochs')\n",
        "plt.ylabel('Validation Accuracy')\n",
        "plt.show()"
      ]
    },
    {
      "cell_type": "markdown",
      "source": [
        "We can see that the validation performance of data augmentation improves over the baseline model."
      ],
      "metadata": {
        "id": "CB1QwbieB-22"
      }
    }
  ]
}